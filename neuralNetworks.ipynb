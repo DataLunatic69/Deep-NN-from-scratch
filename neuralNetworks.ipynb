{
 "cells": [
  {
   "cell_type": "code",
   "execution_count": 1,
   "metadata": {},
   "outputs": [],
   "source": [
    "import numpy as np\n",
    "import tensorflow as tf\n",
    "from tensorflow.keras.datasets import mnist\n",
    "from tensorflow.keras.utils import to_categorical\n",
    "\n",
    "# Load MNIST Dataset\n",
    "(X_train, Y_train), (X_test, Y_test) = mnist.load_data()\n",
    "\n",
    "# Preprocessing\n",
    "X_train = X_train.reshape(X_train.shape[0], 28*28).astype('float32') / 255\n",
    "X_test = X_test.reshape(X_test.shape[0], 28*28).astype('float32') / 255\n",
    "Y_train = to_categorical(Y_train, 10)\n",
    "Y_test = to_categorical(Y_test, 10)\n"
   ]
  },
  {
   "cell_type": "code",
   "execution_count": 2,
   "metadata": {},
   "outputs": [
    {
     "data": {
      "text/plain": [
       "(60000, 784)"
      ]
     },
     "execution_count": 2,
     "metadata": {},
     "output_type": "execute_result"
    }
   ],
   "source": [
    "X_train.shape"
   ]
  },
  {
   "cell_type": "code",
   "execution_count": 3,
   "metadata": {},
   "outputs": [],
   "source": [
    "def sigmoid(Z):\n",
    "    return 1 / (1 + np.exp(-Z))\n",
    "\n",
    "def sigmoid_derivative(Z):\n",
    "    return Z * (1 - Z)\n"
   ]
  },
  {
   "cell_type": "code",
   "execution_count": 4,
   "metadata": {},
   "outputs": [],
   "source": [
    "def relu(Z):\n",
    "    return np.maximum(0, Z)\n",
    "\n",
    "def relu_derivative(Z):\n",
    "    return np.where(Z > 0, 1, 0)\n"
   ]
  },
  {
   "cell_type": "code",
   "execution_count": null,
   "metadata": {},
   "outputs": [],
   "source": [
    "def softmax(Z):\n",
    "    expZ = np.exp(Z - np.max(Z, axis=0, keepdims=True))\n",
    "    return expZ / np.sum(expZ, axis=0, keepdims=True)\n"
   ]
  },
  {
   "cell_type": "code",
   "execution_count": null,
   "metadata": {},
   "outputs": [],
   "source": [
    "def apply_dropout(A, keep_prob):\n",
    "    D = np.random.rand(A.shape[0], A.shape[1]) < keep_prob  # Dropout mask\n",
    "    A = np.multiply(A, D)  # Apply mask\n",
    "    A = A / keep_prob  # Scale activations to maintain expectations\n",
    "    return A, D\n"
   ]
  },
  {
   "cell_type": "code",
   "execution_count": null,
   "metadata": {},
   "outputs": [],
   "source": [
    "def initialize_parameters(input_size, hidden1_size, hidden2_size, output_size):\n",
    "    np.random.seed(1)\n",
    "    \n",
    "    W1 = np.random.randn(hidden1_size, input_size) * 0.01\n",
    "    b1 = np.zeros((hidden1_size, 1))\n",
    "    \n",
    "    W2 = np.random.randn(hidden2_size, hidden1_size) * 0.01\n",
    "    b2 = np.zeros((hidden2_size, 1))\n",
    "    \n",
    "    W3 = np.random.randn(output_size, hidden2_size) * 0.01\n",
    "    b3 = np.zeros((output_size, 1))\n",
    "    \n",
    "    return W1, b1, W2, b2, W3, b3\n"
   ]
  },
  {
   "cell_type": "code",
   "execution_count": null,
   "metadata": {},
   "outputs": [],
   "source": [
    "def forward_propagation(X, W1, b1, W2, b2, W3, b3, keep_prob1=1, keep_prob2=1):\n",
    "    # Layer 1: Input to Hidden Layer 1\n",
    "    Z1 = np.dot(W1, X) + b1\n",
    "    A1 = sigmoid(Z1)\n",
    "    A1, D1 = apply_dropout(A1, keep_prob1)  # Dropout for Hidden Layer 1\n",
    "    \n",
    "    # Layer 2: Hidden Layer 1 to Hidden Layer 2\n",
    "    Z2 = np.dot(W2, A1) + b2\n",
    "    A2 = relu(Z2)\n",
    "    A2, D2 = apply_dropout(A2, keep_prob2)  # Dropout for Hidden Layer 2\n",
    "    \n",
    "    # Layer 3: Hidden Layer 2 to Output Layer\n",
    "    Z3 = np.dot(W3, A2) + b3\n",
    "    A3 = softmax(Z3)\n",
    "    \n",
    "    cache = (Z1, A1, D1, Z2, A2, D2, Z3, A3)\n",
    "    return A3, cache\n"
   ]
  },
  {
   "cell_type": "code",
   "execution_count": null,
   "metadata": {},
   "outputs": [],
   "source": [
    "def backward_propagation(X, Y, cache, W1, W2, W3, keep_prob1=1, keep_prob2=1):\n",
    "    m = X.shape[1]\n",
    "    (Z1, A1, D1, Z2, A2, D2, Z3, A3) = cache\n",
    "\n",
    "    # Output layer\n",
    "    dZ3 = A3 - Y\n",
    "    dW3 = (1/m) * np.dot(dZ3, A2.T)\n",
    "    db3 = (1/m) * np.sum(dZ3, axis=1, keepdims=True)\n",
    "    \n",
    "    # Hidden layer 2\n",
    "    dA2 = np.dot(W3.T, dZ3)\n",
    "    dA2 = dA2 * D2  # Apply dropout mask\n",
    "    dA2 = dA2 / keep_prob2  # Scale back\n",
    "    dZ2 = dA2 * relu_derivative(A2)\n",
    "    dW2 = (1/m) * np.dot(dZ2, A1.T)\n",
    "    db2 = (1/m) * np.sum(dZ2, axis=1, keepdims=True)\n",
    "    \n",
    "    # Hidden layer 1\n",
    "    dA1 = np.dot(W2.T, dZ2)\n",
    "    dA1 = dA1 * D1  # Apply dropout mask\n",
    "    dA1 = dA1 / keep_prob1  # Scale back\n",
    "    dZ1 = dA1 * sigmoid_derivative(A1)\n",
    "    dW1 = (1/m) * np.dot(dZ1, X.T)\n",
    "    db1 = (1/m) * np.sum(dZ1, axis=1, keepdims=True)\n",
    "\n",
    "    gradients = (dW1, db1, dW2, db2, dW3, db3)\n",
    "    return gradients\n"
   ]
  },
  {
   "cell_type": "code",
   "execution_count": null,
   "metadata": {},
   "outputs": [],
   "source": [
    "def update_parameters(params, grads, learning_rate):\n",
    "    W1, b1, W2, b2, W3, b3 = params\n",
    "    dW1, db1, dW2, db2, dW3, db3 = grads\n",
    "\n",
    "    W1 -= learning_rate * dW1\n",
    "    b1 -= learning_rate * db1\n",
    "    W2 -= learning_rate * dW2\n",
    "    b2 -= learning_rate * db2\n",
    "    W3 -= learning_rate * dW3\n",
    "    b3 -= learning_rate * db3\n",
    "    \n",
    "    return W1, b1, W2, b2, W3, b3\n"
   ]
  },
  {
   "cell_type": "code",
   "execution_count": null,
   "metadata": {},
   "outputs": [],
   "source": [
    "def model(X_train, Y_train, X_test, Y_test, learning_rate=0.01, iterations=1000, keep_prob1=0.8, keep_prob2=0.8):\n",
    "    input_size = 784  # 28x28 pixels\n",
    "    hidden1_size = 128\n",
    "    hidden2_size = 64\n",
    "    output_size = 10  # 10 classes (0-9)\n",
    "    \n",
    "    # Initialize parameters\n",
    "    W1, b1, W2, b2, W3, b3 = initialize_parameters(input_size, hidden1_size, hidden2_size, output_size)\n",
    "    \n",
    "    # Training loop\n",
    "    for i in range(iterations):\n",
    "        # Forward propagation\n",
    "        A3, cache = forward_propagation(X_train, W1, b1, W2, b2, W3, b3, keep_prob1, keep_prob2)\n",
    "        \n",
    "        # Compute cost (cross-entropy loss)\n",
    "        cost = -np.mean(Y_train * np.log(A3 + 1e-8))\n",
    "        \n",
    "        # Backward propagation\n",
    "        gradients = backward_propagation(X_train, Y_train, cache, W1, W2, W3, keep_prob1, keep_prob2)\n",
    "        \n",
    "        # Update parameters\n",
    "        W1, b1, W2, b2, W3, b3 = update_parameters((W1, b1, W2, b2, W3, b3), gradients, learning_rate)\n",
    "        \n",
    "        # Print cost every 100 iterations\n",
    "        if i % 100 == 0:\n",
    "            print(f\"Iteration {i}: Cost {cost}\")\n",
    "    \n",
    "    # Predict accuracy on test data\n",
    "    A3, _ = forward_propagation(X_test, W1, b1, W2, b2, W3, b3, 1, 1)\n",
    "    predictions = np.argmax(A3, axis=0)\n",
    "    labels = np.argmax(Y_test, axis=1)\n",
    "    accuracy = np.mean(predictions == labels)\n",
    "    \n",
    "    print(f\"Test Accuracy: {accuracy * 100:.2f}%\")\n"
   ]
  },
  {
   "cell_type": "code",
   "execution_count": null,
   "metadata": {},
   "outputs": [],
   "source": [
    "model(X_train.T, Y_train.T, X_test.T, Y_test.T, learning_rate=0.01, iterations=1000)\n",
    "yy"
   ]
  }
 ],
 "metadata": {
  "kernelspec": {
   "display_name": "base",
   "language": "python",
   "name": "python3"
  },
  "language_info": {
   "codemirror_mode": {
    "name": "ipython",
    "version": 3
   },
   "file_extension": ".py",
   "mimetype": "text/x-python",
   "name": "python",
   "nbconvert_exporter": "python",
   "pygments_lexer": "ipython3",
   "version": "3.11.5"
  }
 },
 "nbformat": 4,
 "nbformat_minor": 2
}
